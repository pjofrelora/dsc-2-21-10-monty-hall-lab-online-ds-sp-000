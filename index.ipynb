{
 "cells": [
  {
   "cell_type": "markdown",
   "metadata": {
    "collapsed": true
   },
   "source": [
    "#  The Monty Hall Problem - Lab\n",
    "\n",
    "## Introduction\n",
    "\n",
    "This lab requires you to deal with one of the popular probability problems. i.e. the Monty Hall Problem. Do some quick background search about Monty Hall and his quiz show to see how this problem came about. Here we shall quickly introduce the problem and take you through a series of exercises towards its solution.\n",
    "\n",
    "## Objectives\n",
    "\n",
    "You will be able to:\n",
    "* Understand and describe the Monty Hall problem in probabilistic terms\n",
    "* Solve the Monty Hall problem using Bayesian Logic and mathematical manipulations\n",
    "* Run a simulation to find the optimal answer for the problem, and check if it matches your calculations\n",
    "\n",
    "## The Problem\n",
    "\n",
    "#### You are on a game show, and you're given the choice of three doors.  Behind one door is a car, behind the others, goats. You pick a door, say No. 1, and the host, who knows what's behind the doors, opens another door, say No. 3, which has a goat. He then says to you, \"Do you want to pick door No. 2?\" \n",
    "\n",
    "### Is it to your advantage to change your choice , or would you rather stick with your initial choice?\n",
    "\n",
    "<img src=\"https://i.ytimg.com/vi/4Lb-6rxZxx0/maxresdefault.jpg\" width=600>\n",
    "\n",
    "This is a classical probability problem and shown here in the simplest form. Wikipedia maintains an excellent document on this problem , explanations and solutions presented, along with a critique of approaches. [Visit think link](https://en.wikipedia.org/wiki/Monty_Hall_problem) and have a quick read through introduction part to understand why this is such a popular puzzle to solve. \n",
    "\n",
    "Once you clearly understand the problem, answer following questions:\n"
   ]
  },
  {
   "cell_type": "markdown",
   "metadata": {},
   "source": [
    "## Part A: \n",
    "What does your intuition say?  Is it in your best interest to switch the door ? "
   ]
  },
  {
   "cell_type": "code",
   "execution_count": null,
   "metadata": {},
   "outputs": [],
   "source": [
    "# Your solution here\n",
    "# Intuition says that it doesn't matter. That no matter what you do, you have a 33% chance of getting the right answer. It's odd and nonintuitive, but it does matter. You should change yor answer based on the new prior."
   ]
  },
  {
   "cell_type": "markdown",
   "metadata": {},
   "source": [
    "## Part B\n",
    "Let's assume that you pick door number 1 and Monty opens door number 3.  The question then is whether you stick with door number 1 or switch to door number 2. Let $D_i$ be the event that the car is actually behind door $i$.  Let $H$ be the event that Monty opens door number 3. First, compute $P(H \\mid D_i)$ for $i=1,2,3$.  You'll need to think carefully about the particular situation described above."
   ]
  },
  {
   "cell_type": "code",
   "execution_count": 31,
   "metadata": {},
   "outputs": [],
   "source": [
    "pD1 = 1/3\n",
    "pD2 = 1/3\n",
    "pD3 = 1/3"
   ]
  },
  {
   "cell_type": "code",
   "execution_count": 45,
   "metadata": {},
   "outputs": [],
   "source": [
    "# Your solution here \n",
    "pHD1 = 0.5\n",
    "pHD2 = 1\n",
    "pHD3 = 0"
   ]
  },
  {
   "cell_type": "markdown",
   "metadata": {},
   "source": [
    "## Part C\n",
    "Use your results from **Part B** and the Law of Total Probability to compute $P(H)$"
   ]
  },
  {
   "cell_type": "code",
   "execution_count": 47,
   "metadata": {},
   "outputs": [
    {
     "data": {
      "text/plain": [
       "0.5"
      ]
     },
     "execution_count": 47,
     "metadata": {},
     "output_type": "execute_result"
    }
   ],
   "source": [
    "# Your solution here \n",
    "pH3 = pD1*pHD1+pD2*pHD2+pD3*pHD3\n",
    "pH3"
   ]
  },
  {
   "cell_type": "markdown",
   "metadata": {},
   "source": [
    "## Part D \n",
    "Now, use Bayes' Rule to compute $P(D_i \\mid H)$ for $i=1$ and $2$ (because these are the doors we care about). "
   ]
  },
  {
   "cell_type": "code",
   "execution_count": 48,
   "metadata": {},
   "outputs": [
    {
     "data": {
      "text/plain": [
       "(0.3333333333333333, 0.6666666666666666)"
      ]
     },
     "execution_count": 48,
     "metadata": {},
     "output_type": "execute_result"
    }
   ],
   "source": [
    "# Your solution here\n",
    "pD1H = pHD1*pD1/pH3\n",
    "pD2H = pHD2*pD2/pH3\n",
    "(pD1H, pD2H)"
   ]
  },
  {
   "cell_type": "markdown",
   "metadata": {},
   "source": [
    "## Part E\n",
    "\n",
    "Write some simple code in Python and Numpy to simulate the Monte Hall problem and verify your results from **Parts A-D**.\n",
    "\n",
    "We are providing you with the structure of the code, fill it the formulas for calculations/polling/switching etc. "
   ]
  },
  {
   "cell_type": "code",
   "execution_count": 101,
   "metadata": {},
   "outputs": [],
   "source": [
    "import numpy as np \n",
    "def make_a_deal(switch=True):\n",
    "    doors = [1,2,3]\n",
    "    car = np.random.randint(1,4)\n",
    "    first_choice = np.random.randint(1,4)\n",
    "    montes_options = [door for door in doors if door not in [car, first_choice]]\n",
    "    goat = montes_options[np.random.randint(0,len(montes_options))]\n",
    "    if switch == True:\n",
    "        for x in set([goat, first_choice]):\n",
    "            doors.remove(x)\n",
    "        final_choice = doors[0]\n",
    "    else:\n",
    "        final_choice = first_choice\n",
    "    if final_choice == car:\n",
    "        return 1\n",
    "    else:\n",
    "        return 0\n",
    "\n",
    "def monte_hall_sim(switch=True, num_trials=int(1e3)): \n",
    "    winners = 0\n",
    "    for i in range(num_trials):\n",
    "        winners += make_a_deal()\n",
    "    if switch:\n",
    "        state = \"switching\"\n",
    "    else:\n",
    "        state = \"not switching\"# \"switching)\" if switch else \"not switching)\"\n",
    "        \n",
    "    print(\"P(winning by \"+state+\" = {:.4f}\".format(winners/num_trials))"
   ]
  },
  {
   "cell_type": "code",
   "execution_count": null,
   "metadata": {},
   "outputs": [],
   "source": [
    "# Uncomment and run the cells below "
   ]
  },
  {
   "cell_type": "code",
   "execution_count": 102,
   "metadata": {},
   "outputs": [
    {
     "name": "stdout",
     "output_type": "stream",
     "text": [
      "P(winning by switching = 0.6654\n"
     ]
    }
   ],
   "source": [
    "monte_hall_sim(switch=True, num_trials=int(1e5))\n",
    "\n",
    "\n",
    "\n",
    "# P(winning by switching) = 0.6675"
   ]
  },
  {
   "cell_type": "code",
   "execution_count": 103,
   "metadata": {},
   "outputs": [
    {
     "name": "stdout",
     "output_type": "stream",
     "text": [
      "P(winning by not switching = 0.9000\n"
     ]
    }
   ],
   "source": [
    "monte_hall_sim(switch=False, num_trials=int(10))\n",
    "\n",
    "\n",
    "\n",
    "# P(winning by not switching) = 0.3351"
   ]
  },
  {
   "cell_type": "code",
   "execution_count": 4,
   "metadata": {},
   "outputs": [],
   "source": [
    "# Record your observations here "
   ]
  },
  {
   "cell_type": "markdown",
   "metadata": {},
   "source": [
    "## Summary \n",
    "\n",
    "In this lab, we used Bayesian calculations to solve the Monty Hall problem. We also looked at running a simulation in Numpy to prove our results through repeated random sampling from the given probability distributions. We found the results to be same as what we calculated by hand. Once again, we see how Bayesian logic can truly reflect a real life phenomenon in terms of prior and posterior knowledge. "
   ]
  }
 ],
 "metadata": {
  "kernelspec": {
   "display_name": "Python 3",
   "language": "python",
   "name": "python3"
  },
  "language_info": {
   "codemirror_mode": {
    "name": "ipython",
    "version": 3
   },
   "file_extension": ".py",
   "mimetype": "text/x-python",
   "name": "python",
   "nbconvert_exporter": "python",
   "pygments_lexer": "ipython3",
   "version": "3.6.6"
  }
 },
 "nbformat": 4,
 "nbformat_minor": 2
}
